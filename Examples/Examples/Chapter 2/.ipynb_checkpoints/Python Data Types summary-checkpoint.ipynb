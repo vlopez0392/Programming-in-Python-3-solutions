{
 "cells": [
  {
   "cell_type": "markdown",
   "metadata": {},
   "source": [
    "# Python Data Types"
   ]
  },
  {
   "cell_type": "markdown",
   "metadata": {},
   "source": [
    "## Introduction \n",
    "\n",
    "* In this notebook we will only consider Python's built-in datatypes, except for one which comes from the standard library. \n",
    "\n",
    "* The only difference between a built-in datatype and a library data type is that we must first import the module and must qualify the data type's name with the name of the module it comes from. "
   ]
  },
  {
   "cell_type": "markdown",
   "metadata": {},
   "source": [
    "## Identifiers and Keywords"
   ]
  },
  {
   "cell_type": "markdown",
   "metadata": {},
   "source": [
    "* What can we do when we create a data item? -> We may either assign it to a variable or insert it into a collection. \n",
    "* __Important__: Assignment in python means binding an object reference to an object in memory that holds the data. The names we give to our object references are called _identifiers_ or just plain *names*\n",
    "\n",
    "So what is a valid __python identifier__? \n",
    "\n",
    "<font color=green> __Definition__: </font> A valid python identifier is a nonempty sequence of characters of any length that consists of a \"start character\" and zero or more \"continuation characters\"\n",
    "\n",
    "\n",
    "Identifiers have some rules and conventions we ought to follow, they are summarized as follows:\n",
    "\n"
   ]
  },
  {
   "cell_type": "markdown",
   "metadata": {},
   "source": [
    "### Identifier rules "
   ]
  },
  {
   "cell_type": "markdown",
   "metadata": {},
   "source": [
    "#### RULE 1:\n",
    "\n",
    "__1. 1__ Start characters must: Be anything that Unicode considers to be a letter (like the ASCII letters), the underscore (\"_\") and most letters from non-English languages. \n",
    "\n",
    "__1. 2__ Continuation characters may: Be any valid start character as well as any Unicode character considered to be a digit such as 0,1,2,.....\"9\"\n",
    "\n",
    "Note that identifiers are case sensitive as demonstrated in the following example:"
   ]
  },
  {
   "cell_type": "code",
   "execution_count": 4,
   "metadata": {},
   "outputs": [
    {
     "name": "stdout",
     "output_type": "stream",
     "text": [
      "False\n",
      "True\n"
     ]
    }
   ],
   "source": [
    "### Consider the variables taxRate and TAXRATE\n",
    "TAXRATE=0.75 \n",
    "taxRate=0.5\n",
    "\n",
    "##Check if declared variables are equal \n",
    "print(taxRate==TAXRATE)\n",
    "\n",
    "print(taxRate==taxRate)"
   ]
  },
  {
   "cell_type": "markdown",
   "metadata": {},
   "source": [
    "#### RULE 2:\n",
    "\n",
    "NO identifier can have the same name as one of Python's keywords, thus we cannot use any of the names shown in the following image:\n"
   ]
  },
  {
   "cell_type": "markdown",
   "metadata": {},
   "source": [
    "<img src=Images/keywords.png title=\"Python Keywords\" align=left> "
   ]
  },
  {
   "cell_type": "markdown",
   "metadata": {},
   "source": [
    "### __Identifier Conventions__"
   ]
  },
  {
   "cell_type": "markdown",
   "metadata": {},
   "source": [
    "#### __Convention 1__:  "
   ]
  },
  {
   "cell_type": "markdown",
   "metadata": {},
   "source": [
    "Avoid using:\n",
    "* The names of Python's predefined identifiers for your own identifiers. So, avoid using e.g. *Not Implemented* or *Ellipsis* \n",
    "* The names of Python's built in data types (str, int, float, list, and tuple)\n",
    "* The names of any of Python's built-in functions or exceptions"
   ]
  },
  {
   "cell_type": "code",
   "execution_count": 12,
   "metadata": {},
   "outputs": [
    {
     "data": {
      "text/plain": [
       "['In',\n",
       " 'Out',\n",
       " 'TAXRATE',\n",
       " '_',\n",
       " '__',\n",
       " '___',\n",
       " '__builtin__',\n",
       " '__builtins__',\n",
       " '__doc__',\n",
       " '__loader__',\n",
       " '__name__',\n",
       " '__package__',\n",
       " '__spec__',\n",
       " '_dh',\n",
       " '_i',\n",
       " '_i1',\n",
       " '_i10',\n",
       " '_i11',\n",
       " '_i12',\n",
       " '_i2',\n",
       " '_i3',\n",
       " '_i4',\n",
       " '_i5',\n",
       " '_i6',\n",
       " '_i7',\n",
       " '_i8',\n",
       " '_i9',\n",
       " '_ih',\n",
       " '_ii',\n",
       " '_iii',\n",
       " '_oh',\n",
       " 'a',\n",
       " 'exit',\n",
       " 'get_ipython',\n",
       " 'quit',\n",
       " 'taxRate']"
      ]
     },
     "execution_count": 12,
     "metadata": {},
     "output_type": "execute_result"
    }
   ],
   "source": [
    "####Where to look, consider the built-in function dir() -> Returns Python's list of Python's attributes\n",
    "dir()"
   ]
  },
  {
   "cell_type": "markdown",
   "metadata": {},
   "source": [
    "How can we tell if our identifiers fall into the categories mentioned before? Consider calling "
   ]
  },
  {
   "cell_type": "code",
   "execution_count": null,
   "metadata": {},
   "outputs": [],
   "source": []
  }
 ],
 "metadata": {
  "kernelspec": {
   "display_name": "Python 3",
   "language": "python",
   "name": "python3"
  },
  "language_info": {
   "codemirror_mode": {
    "name": "ipython",
    "version": 3
   },
   "file_extension": ".py",
   "mimetype": "text/x-python",
   "name": "python",
   "nbconvert_exporter": "python",
   "pygments_lexer": "ipython3",
   "version": "3.7.3"
  }
 },
 "nbformat": 4,
 "nbformat_minor": 2
}
