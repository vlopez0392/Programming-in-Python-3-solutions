{
 "cells": [
  {
   "cell_type": "markdown",
   "metadata": {},
   "source": [
    "## Section 4: Floating-Point Types"
   ]
  },
  {
   "cell_type": "markdown",
   "metadata": {},
   "source": [
    "### 4.1 Introduction \n",
    "\n",
    "Python provides three kinds of floating point values: \n",
    "\n",
    "1. The built-in float type\n",
    "2. The built-in complex type \n",
    "3. The decimal.Decimal type from the standard library\n",
    "\n",
    "#### Some interesting facts about the float type:\n",
    "\n",
    "- Type _float_ holds double-precision floating-point numbers whose range depends on the C or C#/Java compiler Python was built-in.\n",
    "\n",
    "\n",
    "- _float_ numbers cannot be reliabily compared for equality.\n",
    "\n",
    "\n",
    "- Computers represent floating-point numbers using base 2 - this means some decimals can be represented exactly (such as 0.5) but others only approximately (such as 0.1 and 0.2). \n",
    "\n",
    "\n",
    "- Each representation uses a fixed number of bits and thus, there is a limit to the number of digits that can be held.\n"
   ]
  },
  {
   "cell_type": "markdown",
   "metadata": {},
   "source": [
    "__Example:__ The following example uses David Gay's algorithm to produce a sensible/nice looking output (In Python >3.1) without losing any accuracy:  "
   ]
  },
  {
   "cell_type": "code",
   "execution_count": 1,
   "metadata": {},
   "outputs": [
    {
     "data": {
      "text/plain": [
       "(0.0, 5.4, -2.5, 0.00089)"
      ]
     },
     "execution_count": 1,
     "metadata": {},
     "output_type": "execute_result"
    }
   ],
   "source": [
    "0.0,5.4,-2.5,8.9e-4"
   ]
  },
  {
   "cell_type": "markdown",
   "metadata": {},
   "source": [
    "<font color=green> __Caveat:__ </font> Although a nice output, computers (no matter the language used) store floating-point numbers as approximations. "
   ]
  },
  {
   "cell_type": "markdown",
   "metadata": {},
   "source": [
    "####  Notes about mixed mode arithmetic:\n",
    "\n",
    "- Using a _float_ and an _int_ produces a _float_ \n",
    "\n",
    "\n",
    "- Using a _float_ and a _complex_ produces a complex. \n",
    "\n",
    "\n",
    "- The _decimal.Decimal_ data type can only be used with other _decimal.Decimal_ and with ints due                                 to their fixed precision, where any operation performed results in a _decimal.Decimal_ object. Using another type will result in a TypeError exception being raised. "
   ]
  },
  {
   "cell_type": "code",
   "execution_count": null,
   "metadata": {},
   "outputs": [],
   "source": []
  }
 ],
 "metadata": {
  "kernelspec": {
   "display_name": "Python 3",
   "language": "python",
   "name": "python3"
  },
  "language_info": {
   "codemirror_mode": {
    "name": "ipython",
    "version": 3
   },
   "file_extension": ".py",
   "mimetype": "text/x-python",
   "name": "python",
   "nbconvert_exporter": "python",
   "pygments_lexer": "ipython3",
   "version": "3.7.3"
  }
 },
 "nbformat": 4,
 "nbformat_minor": 2
}
