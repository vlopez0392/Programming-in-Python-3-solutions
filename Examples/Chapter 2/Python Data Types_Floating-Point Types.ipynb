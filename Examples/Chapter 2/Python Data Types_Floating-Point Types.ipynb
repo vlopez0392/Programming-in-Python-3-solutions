{
 "cells": [
  {
   "cell_type": "markdown",
   "metadata": {},
   "source": [
    "## Section 4: Floating-Point Types"
   ]
  },
  {
   "cell_type": "markdown",
   "metadata": {},
   "source": [
    "### 4.1 Introduction \n",
    "\n",
    "Python provides three kinds of floating point values: \n",
    "\n",
    "1. The built-in float type\n",
    "2. The built-in complex type \n",
    "3. The decimal.Decimal type from the standard library\n",
    "\n",
    "#### Some interesting facts about the float type:\n",
    "\n",
    "- Type _float_ holds double-precision floating-point numbers whose range depends on the C or C#/Java compiler Python was built-in.\n",
    "\n",
    "\n",
    "- _float_ numbers cannot be reliabily compared for equality.\n",
    "\n",
    "\n",
    "- Computers represent floating-point numbers using base 2 - this means some decimals can be represented exactly (such as 0.5) but others only approximately (such as 0.1 and 0.2). \n",
    "\n",
    "\n",
    "- Each representation uses a fixed number of bits and thus, there is a limit to the number of digits that can be held.\n"
   ]
  },
  {
   "cell_type": "markdown",
   "metadata": {},
   "source": [
    "__Example:__ The following example uses David Gay's algorithm to produce a sensible/nice looking output (In Python >3.1) without losing any accuracy:  "
   ]
  },
  {
   "cell_type": "code",
   "execution_count": 1,
   "metadata": {},
   "outputs": [
    {
     "data": {
      "text/plain": [
       "(0.0, 5.4, -2.5, 0.00089)"
      ]
     },
     "execution_count": 1,
     "metadata": {},
     "output_type": "execute_result"
    }
   ],
   "source": [
    "0.0,5.4,-2.5,8.9e-4"
   ]
  },
  {
   "cell_type": "markdown",
   "metadata": {},
   "source": [
    "<font color=green> __Caveat:__ </font> Although a nice output, computers (no matter the language used) store floating-point numbers as approximations. "
   ]
  },
  {
   "cell_type": "markdown",
   "metadata": {},
   "source": [
    "####  Notes about mixed mode arithmetic:\n",
    "\n",
    "- Using a _float_ and an _int_ produces a _float_ \n",
    "\n",
    "\n",
    "- Using a _float_ and a _complex_ produces a complex. \n",
    "\n",
    "\n",
    "- The _decimal.Decimal_ data type can only be used with other _decimal.Decimal_ and with ints due                                 to their fixed precision, where any operation performed results in a _decimal.Decimal_ object. Using another type will result in a TypeError exception being raised. "
   ]
  },
  {
   "cell_type": "markdown",
   "metadata": {},
   "source": [
    "### 4.1 Floating-Point Numbers "
   ]
  },
  {
   "cell_type": "markdown",
   "metadata": {},
   "source": [
    "All the numeric opearators and functions seen in the Integrals notebook can be used with _floats_, including the augmented assignment versions. \n",
    "\n",
    "The float data type can be called as a function as follows:\n",
    "\n",
    "__A. Calling float() with no arguments:__"
   ]
  },
  {
   "cell_type": "code",
   "execution_count": 5,
   "metadata": {},
   "outputs": [
    {
     "name": "stdout",
     "output_type": "stream",
     "text": [
      "0.0\n"
     ]
    }
   ],
   "source": [
    "x=float()   ##Returns 0.0\n",
    "print(x) "
   ]
  },
  {
   "cell_type": "markdown",
   "metadata": {},
   "source": [
    "__B. Calling float() with a single argument:__"
   ]
  },
  {
   "cell_type": "code",
   "execution_count": 8,
   "metadata": {},
   "outputs": [
    {
     "name": "stdout",
     "output_type": "stream",
     "text": [
      "14.54\n",
      "14.0\n",
      "1000.0\n"
     ]
    }
   ],
   "source": [
    "a = float(14.54)\n",
    "print(a) ##Returns a copy of the argument\n",
    "\n",
    "b = float(14) #int argument\n",
    "print(b) ##Attempts to convert the object to float\n",
    "\n",
    "c = float('1e3') ##Converts the string argument with exponential notation to a float \n",
    "print(c)"
   ]
  },
  {
   "cell_type": "markdown",
   "metadata": {},
   "source": [
    "__Note:__ It is possible that NaN (\"Not a number\") or \"infinity\" is produced by a calculation involving floats- Although this behavior is not consistent across implementations and may differ depending on the system's underlying math library.\n",
    "\n",
    "The following tables contains the Math Module's constants and Functions:"
   ]
  },
  {
   "cell_type": "markdown",
   "metadata": {},
   "source": [
    "<img src=\"Images/table2_5.png\" align=left width=\"425\" height=\"425\" >"
   ]
  },
  {
   "cell_type": "markdown",
   "metadata": {},
   "source": [
    "<img src=\"Images/table2_6.png\" align=left width=\"425\" height=\"425\">"
   ]
  },
  {
   "cell_type": "markdown",
   "metadata": {},
   "source": [
    "__Example:__ Suppose we want to compare the equality of two floats. However, we've seen that floats can't be accurately compared, then, how do we solve this problem? \n",
    "\n",
    "One effective way to do so, is by comparing them in the limit of the machine's accuracy as follows:"
   ]
  },
  {
   "cell_type": "code",
   "execution_count": 11,
   "metadata": {},
   "outputs": [],
   "source": [
    "import sys \n",
    "\n",
    "def compare_float(a,b):\n",
    "    return (a-b)<=sys.float_info.epsilon"
   ]
  },
  {
   "cell_type": "code",
   "execution_count": 27,
   "metadata": {},
   "outputs": [
    {
     "name": "stdout",
     "output_type": "stream",
     "text": [
      "False\n",
      "True\n"
     ]
    }
   ],
   "source": [
    "b1 = compare_float(14.5000001, 14.500000)\n",
    "print(b1)\n",
    "\n",
    "b2 = compare_float(13.161718212019, 13.161718222120)\n",
    "print(b2)"
   ]
  },
  {
   "cell_type": "code",
   "execution_count": 13,
   "metadata": {},
   "outputs": [
    {
     "data": {
      "text/plain": [
       "sys.float_info(max=1.7976931348623157e+308, max_exp=1024, max_10_exp=308, min=2.2250738585072014e-308, min_exp=-1021, min_10_exp=-307, dig=15, mant_dig=53, epsilon=2.220446049250313e-16, radix=2, rounds=1)"
      ]
     },
     "execution_count": 13,
     "metadata": {},
     "output_type": "execute_result"
    }
   ],
   "source": [
    "sys.float_info"
   ]
  },
  {
   "cell_type": "markdown",
   "metadata": {},
   "source": [
    "- The sys.float_info has many attributes as shown above. \n",
    "\n",
    "\n",
    "- sys.float_info.epsilon is the smallest difference that a machine can distinguish between two floating-point numbers. In the machine were this notebook was first developed sys.float_info.epsilon has a value of 2.220446049250313e-16. \n",
    "\n",
    "\n",
    "- Thus, Python _floats_ normally provide accuracy up to 17 significant digits.\n",
    "\n",
    "\n",
    "Now, we will call the help function with sys.float_info to study some information about the sys.float_info object:"
   ]
  },
  {
   "cell_type": "code",
   "execution_count": 15,
   "metadata": {},
   "outputs": [
    {
     "name": "stdout",
     "output_type": "stream",
     "text": [
      "Help on float_info object:\n",
      "\n",
      "class float_info(builtins.tuple)\n",
      " |  float_info(iterable=(), /)\n",
      " |  \n",
      " |  sys.float_info\n",
      " |  \n",
      " |  A structseq holding information about the float type. It contains low level\n",
      " |  information about the precision and internal representation. Please study\n",
      " |  your system's :file:`float.h` for more information.\n",
      " |  \n",
      " |  Method resolution order:\n",
      " |      float_info\n",
      " |      builtins.tuple\n",
      " |      builtins.object\n",
      " |  \n",
      " |  Methods defined here:\n",
      " |  \n",
      " |  __reduce__(...)\n",
      " |      Helper for pickle.\n",
      " |  \n",
      " |  __repr__(self, /)\n",
      " |      Return repr(self).\n",
      " |  \n",
      " |  ----------------------------------------------------------------------\n",
      " |  Static methods defined here:\n",
      " |  \n",
      " |  __new__(*args, **kwargs) from builtins.type\n",
      " |      Create and return a new object.  See help(type) for accurate signature.\n",
      " |  \n",
      " |  ----------------------------------------------------------------------\n",
      " |  Data descriptors defined here:\n",
      " |  \n",
      " |  dig\n",
      " |      DBL_DIG -- digits\n",
      " |  \n",
      " |  epsilon\n",
      " |      DBL_EPSILON -- Difference between 1 and the next representable float\n",
      " |  \n",
      " |  mant_dig\n",
      " |      DBL_MANT_DIG -- mantissa digits\n",
      " |  \n",
      " |  max\n",
      " |      DBL_MAX -- maximum representable finite float\n",
      " |  \n",
      " |  max_10_exp\n",
      " |      DBL_MAX_10_EXP -- maximum int e such that 10**e is representable\n",
      " |  \n",
      " |  max_exp\n",
      " |      DBL_MAX_EXP -- maximum int e such that radix**(e-1) is representable\n",
      " |  \n",
      " |  min\n",
      " |      DBL_MIN -- Minimum positive normalized float\n",
      " |  \n",
      " |  min_10_exp\n",
      " |      DBL_MIN_10_EXP -- minimum int e such that 10**e is a normalized\n",
      " |  \n",
      " |  min_exp\n",
      " |      DBL_MIN_EXP -- minimum int e such that radix**(e-1) is a normalized float\n",
      " |  \n",
      " |  radix\n",
      " |      FLT_RADIX -- radix of exponent\n",
      " |  \n",
      " |  rounds\n",
      " |      FLT_ROUNDS -- rounding mode\n",
      " |  \n",
      " |  ----------------------------------------------------------------------\n",
      " |  Data and other attributes defined here:\n",
      " |  \n",
      " |  n_fields = 11\n",
      " |  \n",
      " |  n_sequence_fields = 11\n",
      " |  \n",
      " |  n_unnamed_fields = 0\n",
      " |  \n",
      " |  ----------------------------------------------------------------------\n",
      " |  Methods inherited from builtins.tuple:\n",
      " |  \n",
      " |  __add__(self, value, /)\n",
      " |      Return self+value.\n",
      " |  \n",
      " |  __contains__(self, key, /)\n",
      " |      Return key in self.\n",
      " |  \n",
      " |  __eq__(self, value, /)\n",
      " |      Return self==value.\n",
      " |  \n",
      " |  __ge__(self, value, /)\n",
      " |      Return self>=value.\n",
      " |  \n",
      " |  __getattribute__(self, name, /)\n",
      " |      Return getattr(self, name).\n",
      " |  \n",
      " |  __getitem__(self, key, /)\n",
      " |      Return self[key].\n",
      " |  \n",
      " |  __getnewargs__(self, /)\n",
      " |  \n",
      " |  __gt__(self, value, /)\n",
      " |      Return self>value.\n",
      " |  \n",
      " |  __hash__(self, /)\n",
      " |      Return hash(self).\n",
      " |  \n",
      " |  __iter__(self, /)\n",
      " |      Implement iter(self).\n",
      " |  \n",
      " |  __le__(self, value, /)\n",
      " |      Return self<=value.\n",
      " |  \n",
      " |  __len__(self, /)\n",
      " |      Return len(self).\n",
      " |  \n",
      " |  __lt__(self, value, /)\n",
      " |      Return self<value.\n",
      " |  \n",
      " |  __mul__(self, value, /)\n",
      " |      Return self*value.\n",
      " |  \n",
      " |  __ne__(self, value, /)\n",
      " |      Return self!=value.\n",
      " |  \n",
      " |  __rmul__(self, value, /)\n",
      " |      Return value*self.\n",
      " |  \n",
      " |  count(self, value, /)\n",
      " |      Return number of occurrences of value.\n",
      " |  \n",
      " |  index(self, value, start=0, stop=9223372036854775807, /)\n",
      " |      Return first index of value.\n",
      " |      \n",
      " |      Raises ValueError if the value is not present.\n",
      "\n"
     ]
    }
   ],
   "source": [
    "help(sys.float_info)"
   ]
  },
  {
   "cell_type": "markdown",
   "metadata": {},
   "source": [
    "__Other useful facts about floating-point numbers:__\n",
    "\n",
    "- Floating-point numbers can be converted to integers using the _int()_ function by throwing away the fractional part away and keeping the whole part. \n",
    "\n",
    "Consider the following cell:\n"
   ]
  },
  {
   "cell_type": "code",
   "execution_count": 20,
   "metadata": {},
   "outputs": [
    {
     "name": "stdout",
     "output_type": "stream",
     "text": [
      "5\n"
     ]
    }
   ],
   "source": [
    "f = 5.625 \n",
    "\n",
    "f = int(f)\n",
    "\n",
    "print(f)"
   ]
  },
  {
   "cell_type": "markdown",
   "metadata": {},
   "source": [
    "- Using _round()_ with a floating-point type accounts for the fractional part while _math.ceil()_ and _math.floor()_ round up and down to the nearest integer respectively: \n",
    "\n",
    "Consider the following cell:\n",
    "\n"
   ]
  },
  {
   "cell_type": "markdown",
   "metadata": {},
   "source": [
    "import math\n",
    "\n",
    "x = 5.625 \n",
    "\n",
    "x = round(5.625,2)\n",
    "print(x) \n",
    "\n",
    "f = math.floor(x)\n",
    "print(f)\n",
    "\n",
    "c = math.ceil(x)\n",
    "print(c)"
   ]
  },
  {
   "cell_type": "markdown",
   "metadata": {},
   "source": [
    "- The float.is_integer() method returns _True_ if the floating-point number's fractional part is 0. \n",
    "\n",
    "- The float.as_integer_ratio() method returns a float's fractional representation. \n",
    "\n",
    "\n",
    "Consider the following cell: "
   ]
  },
  {
   "cell_type": "code",
   "execution_count": 25,
   "metadata": {},
   "outputs": [
    {
     "name": "stdout",
     "output_type": "stream",
     "text": [
      "True\n",
      "(5, 1)\n",
      "False\n",
      "(11, 4)\n"
     ]
    }
   ],
   "source": [
    "##Example 1\n",
    "i = 5.0 \n",
    "print(i.is_integer())\n",
    "print(i.as_integer_ratio())\n",
    "\n",
    "\n",
    "##Example 2 \n",
    "r = 2.75\n",
    "print(r.is_integer())\n",
    "print(r.as_integer_ratio())\n"
   ]
  },
  {
   "cell_type": "markdown",
   "metadata": {},
   "source": [
    "- Floating point numbers can be represented as strings in hexadecimal format using the float.hex() method. \n",
    "\n",
    "Consider the following cell: \n"
   ]
  },
  {
   "cell_type": "code",
   "execution_count": 30,
   "metadata": {},
   "outputs": [
    {
     "data": {
      "text/plain": [
       "'0x1.a800000000000p+3'"
      ]
     },
     "execution_count": 30,
     "metadata": {},
     "output_type": "execute_result"
    }
   ],
   "source": [
    "13.25.hex()"
   ]
  },
  {
   "cell_type": "markdown",
   "metadata": {},
   "source": [
    "__Note:__ What does all this _\"gibberish\"_ mean? \n",
    "\n",
    "From the Python documentation, the string '0x1.a800000000000p+3' represents a hexadecimal number in the following form: \n",
    "\n",
    "_[sign] ['0x'] integer ['.' fraction] ['p' exponent]_\n",
    "\n",
    "\n",
    "Thus, in our example, 1  accounts for the integer part of the hex value, a8 (Case is not important) represents the fractional part of our hex value and finally, the exponent 'p' has a value of 3. Note that this exponent is a decimal value and gives the power of 2 by which we multiply the rest of the hex value.\n",
    "\n",
    "Now, let's convert this hex value to decimal as follows: \n",
    "\n",
    "Recall that $A =10$\n",
    "\n",
    "$0x1.a800000000000p+3 = (1*16^0 + A*16^{-1} +8*16^{-2})*2^3 = (1+0.625+0.03125)*8 = 13.25$\n",
    "\n",
    "Let's try to convert this string back to hexadecimal form using the float.fromhex() method:"
   ]
  },
  {
   "cell_type": "code",
   "execution_count": 31,
   "metadata": {},
   "outputs": [
    {
     "data": {
      "text/plain": [
       "13.25"
      ]
     },
     "execution_count": 31,
     "metadata": {},
     "output_type": "execute_result"
    }
   ],
   "source": [
    "float.fromhex('0x1.a800000000000p+3')"
   ]
  },
  {
   "cell_type": "markdown",
   "metadata": {},
   "source": [
    "Finally, the _math_ module provides provides many more functions that operate on _floats_. Here are some examples: "
   ]
  },
  {
   "cell_type": "code",
   "execution_count": 36,
   "metadata": {},
   "outputs": [
    {
     "name": "stdout",
     "output_type": "stream",
     "text": [
      "12.0\n",
      "13.0\n",
      "78.53981633974483\n"
     ]
    }
   ],
   "source": [
    "import math \n",
    "\n",
    "x = 5.0\n",
    "y = 12.0\n",
    "\n",
    "print(math.sqrt(math.pow(y,2)))\n",
    "\n",
    "print(math.hypot(x,y))\n",
    "\n",
    "print(math.pi*5**2)"
   ]
  },
  {
   "cell_type": "markdown",
   "metadata": {},
   "source": [
    "### 4.2 Complex Numbers \n",
    "\n",
    "The __complex__ data type is an immmutable type that holds a pair of _floats_, one holding the real part and the other holding the imaginary part of the the complex number. \n",
    "\n",
    "Here are some examples of complex numbers and their attributes:"
   ]
  },
  {
   "cell_type": "code",
   "execution_count": 48,
   "metadata": {},
   "outputs": [
    {
     "name": "stdout",
     "output_type": "stream",
     "text": [
      "(1+2j)\n",
      "1.0\n",
      "-3.7\n"
     ]
    },
    {
     "data": {
      "text/plain": [
       "complex"
      ]
     },
     "execution_count": 48,
     "metadata": {},
     "output_type": "execute_result"
    }
   ],
   "source": [
    "a = 1 + 2j\n",
    "b = -2-3.7j\n",
    "\n",
    "print(a)\n",
    "print((a).real) \n",
    "print((b).imag)\n",
    "type(b)"
   ]
  },
  {
   "cell_type": "markdown",
   "metadata": {},
   "source": [
    "- Except for //, %, divmod, and the three-argument pow(), all the numeric operators and functions seen in the Integrals notebook table, can be used with _complex_ types and so can the augmented assignment operators. \n",
    "\n",
    "\n",
    "- Complex numbers have a method called conjugate() which changes the sign of the imaginary part: "
   ]
  },
  {
   "cell_type": "code",
   "execution_count": 50,
   "metadata": {},
   "outputs": [
    {
     "name": "stdout",
     "output_type": "stream",
     "text": [
      "(-2-3.7j)\n"
     ]
    },
    {
     "data": {
      "text/plain": [
       "(-2+3.7j)"
      ]
     },
     "execution_count": 50,
     "metadata": {},
     "output_type": "execute_result"
    }
   ],
   "source": [
    "print(b) \n",
    "\n",
    "b.conjugate()"
   ]
  },
  {
   "cell_type": "markdown",
   "metadata": {},
   "source": [
    "Notice that we can call methods on literals: "
   ]
  },
  {
   "cell_type": "code",
   "execution_count": 62,
   "metadata": {},
   "outputs": [
    {
     "data": {
      "text/plain": [
       "(3+4j)"
      ]
     },
     "execution_count": 62,
     "metadata": {},
     "output_type": "execute_result"
    }
   ],
   "source": [
    "3-4j.conjugate()"
   ]
  },
  {
   "cell_type": "markdown",
   "metadata": {},
   "source": [
    "In general, Pyhon allows us to call methods on any literals as long as the literal's data type provides the called method or attribute. "
   ]
  },
  {
   "cell_type": "markdown",
   "metadata": {},
   "source": [
    "Finally, let's see some examples on how we can call the complex data type as a function: \n",
    "\n",
    "__1. Calling complex() with no arguments:__"
   ]
  },
  {
   "cell_type": "code",
   "execution_count": 65,
   "metadata": {},
   "outputs": [
    {
     "data": {
      "text/plain": [
       "0j"
      ]
     },
     "execution_count": 65,
     "metadata": {},
     "output_type": "execute_result"
    }
   ],
   "source": [
    "complex() #Returns 0j"
   ]
  },
  {
   "cell_type": "markdown",
   "metadata": {},
   "source": [
    "__2. Calling complex() with a complex argument:__"
   ]
  },
  {
   "cell_type": "code",
   "execution_count": 66,
   "metadata": {},
   "outputs": [
    {
     "data": {
      "text/plain": [
       "(1+2j)"
      ]
     },
     "execution_count": 66,
     "metadata": {},
     "output_type": "execute_result"
    }
   ],
   "source": [
    "complex(1+2j) #Returns a shallow copy of the argument"
   ]
  },
  {
   "cell_type": "markdown",
   "metadata": {},
   "source": [
    "__3. Calling complex() with other arguments (Conversion):__"
   ]
  },
  {
   "cell_type": "code",
   "execution_count": 72,
   "metadata": {},
   "outputs": [
    {
     "name": "stdout",
     "output_type": "stream",
     "text": [
      "(0.2+0j)\n",
      "(0.2+0.1j)\n",
      "(0.2+0.1j)\n",
      "(0.2-0.1j)\n"
     ]
    }
   ],
   "source": [
    "print(complex(0.2))     ## With one float argument, assumes the imaginary part to be 0j \n",
    "\n",
    "print(complex(0.2,0.1)) ## With two arguments, complex(a,b) returns a complex number of the form a+bj\n",
    "\n",
    "a=complex('0.2+0.1j')   ## Can also be done with string arguments!\n",
    "\n",
    "print(a)\n",
    "print(a.conjugate())"
   ]
  },
  {
   "cell_type": "markdown",
   "metadata": {},
   "source": [
    "Finally, let's explore some of the _cmath_ module functions, which provide the trigonometric and logarithmic functions in the _math_ module plus some complex-specific functions: \n",
    "\n",
    "__Example:__ Suppose we have a complex number a+bj and we want to obtain its phase, its norm (or magnitude) and it's polar representation. \n",
    "\n",
    "Consider the following figure:\n",
    "\n",
    "<img src = \"Images/complexnumber.png\" align=center> "
   ]
  },
  {
   "cell_type": "code",
   "execution_count": 83,
   "metadata": {},
   "outputs": [
    {
     "name": "stdout",
     "output_type": "stream",
     "text": [
      "The norm of the vector (1+1j) is 1.4142135623730951\n",
      "The phase of the vector (1+1j) is 0.7853981633974483\n",
      "The vector (1+1j) has the following polar representation (1.4142135623730951, 0.7853981633974483)\n"
     ]
    }
   ],
   "source": [
    "import cmath as c\n",
    "\n",
    "a=1+1j \n",
    "\n",
    "###First, lets compute the norm (magnitude)\n",
    "norm = abs(a)\n",
    "print('The norm of the vector {} is {}'.format(a,norm)) # sqrt(2)\n",
    "\n",
    "###Now, lets compute the phase\n",
    "phase= c.phase(a)\n",
    "print('The phase of the vector {} is {}'.format(a,phase)) # pi/4\n",
    "\n",
    "##Finally, lets obtain the polar representation which equals (norm, phase): \n",
    "\n",
    "pol = c.polar(a)\n",
    "print('The vector {} has the following polar representation {}'.format(a,pol)) # (norm, phase)\n"
   ]
  },
  {
   "cell_type": "markdown",
   "metadata": {},
   "source": [
    "__Important Note:__ Kepp in mind that the math module doesn't work with complex numbers. This decision is deliberate in design to avoid getting complex numbers in some situations where they are not required.  The users of the math modules instead will get _Exceptions_ whenever they encounter a complex type. "
   ]
  },
  {
   "cell_type": "code",
   "execution_count": null,
   "metadata": {},
   "outputs": [],
   "source": []
  }
 ],
 "metadata": {
  "kernelspec": {
   "display_name": "Python 3",
   "language": "python",
   "name": "python3"
  },
  "language_info": {
   "codemirror_mode": {
    "name": "ipython",
    "version": 3
   },
   "file_extension": ".py",
   "mimetype": "text/x-python",
   "name": "python",
   "nbconvert_exporter": "python",
   "pygments_lexer": "ipython3",
   "version": "3.7.3"
  }
 },
 "nbformat": 4,
 "nbformat_minor": 2
}
