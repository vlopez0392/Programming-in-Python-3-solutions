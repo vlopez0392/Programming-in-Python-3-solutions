{
 "cells": [
  {
   "cell_type": "markdown",
   "metadata": {},
   "source": [
    "## Section 3: Integral Types\n",
    "\n",
    "### 3.1 Introduction:\n",
    "\n",
    "Python provides two integral types: \n",
    "\n",
    "1. _int_\n",
    "2. _bool_\n",
    "\n",
    "\n",
    "* Both Integers and Booleans are immutable, but thanks to Python augmented assignment operator, this is barely noticeable. When used in Boolean expressions, 0 and False are False and any other integer and True are True.\n",
    "\n",
    "* When used in numerical expressions, True evaluates to 1 and False evaluates to 0.\n",
    "\n",
    "### 3.2 Integers \n",
    "\n",
    "Integer literals are written using base 10 (decimal) by default, but other number bases can be used when convenient:"
   ]
  },
  {
   "cell_type": "code",
   "execution_count": 15,
   "metadata": {},
   "outputs": [
    {
     "data": {
      "text/plain": [
       "14600926"
      ]
     },
     "execution_count": 15,
     "metadata": {},
     "output_type": "execute_result"
    }
   ],
   "source": [
    "14600926 ##Decimal"
   ]
  },
  {
   "cell_type": "code",
   "execution_count": 18,
   "metadata": {},
   "outputs": [
    {
     "data": {
      "text/plain": [
       "14600926"
      ]
     },
     "execution_count": 18,
     "metadata": {},
     "output_type": "execute_result"
    }
   ],
   "source": [
    "0b110111101100101011011110 ##binary"
   ]
  },
  {
   "cell_type": "code",
   "execution_count": 21,
   "metadata": {},
   "outputs": [
    {
     "data": {
      "text/plain": [
       "14600926"
      ]
     },
     "execution_count": 21,
     "metadata": {},
     "output_type": "execute_result"
    }
   ],
   "source": [
    "0o67545336 ##Octal"
   ]
  },
  {
   "cell_type": "code",
   "execution_count": 22,
   "metadata": {},
   "outputs": [
    {
     "data": {
      "text/plain": [
       "14600926"
      ]
     },
     "execution_count": 22,
     "metadata": {},
     "output_type": "execute_result"
    }
   ],
   "source": [
    "0xDECADE ##Hexadecimal"
   ]
  },
  {
   "cell_type": "markdown",
   "metadata": {},
   "source": [
    "__Note:__ Binary numbers are written with a leading 0b, octal numbers with a leading 0o, and hexadecimal numbers with a leading 0x. Uppercase letters can also be used\n",
    "\n",
    "### 3.3 Integer Numeric operators and Functions \n",
    "\n",
    "The following table shows some of the Numeric operators and functions available for Python integers: "
   ]
  },
  {
   "cell_type": "markdown",
   "metadata": {},
   "source": [
    "<img src=\"Images/table2_1.png\" align=left>"
   ]
  },
  {
   "cell_type": "markdown",
   "metadata": {},
   "source": [
    "From the table above, we can see that: \n",
    "\n",
    "* All the usual mathematical functions and operators can be used with integers. \n",
    "    * Some of the functionality is provided by built-in functions such as abs(i)\n",
    "    * Other functionality is provided by integer operators such as i+j"
   ]
  },
  {
   "cell_type": "markdown",
   "metadata": {},
   "source": [
    "__Example:__ Consider using the round() function. This function is quite interesting given that it may behave differently given different input argument types:  \n",
    "\n",
    "First, for floats the round() function behaves in the expected way, for example:"
   ]
  },
  {
   "cell_type": "code",
   "execution_count": 43,
   "metadata": {},
   "outputs": [
    {
     "data": {
      "text/plain": [
       "1.25"
      ]
     },
     "execution_count": 43,
     "metadata": {},
     "output_type": "execute_result"
    }
   ],
   "source": [
    "round(1.246, 2) ###Rounds to 1.25"
   ]
  },
  {
   "cell_type": "markdown",
   "metadata": {},
   "source": [
    "For _ints_, the round() function used with a positive rounding _ndigits_ value has no effect and results in the same number being returned: "
   ]
  },
  {
   "cell_type": "code",
   "execution_count": 56,
   "metadata": {},
   "outputs": [
    {
     "data": {
      "text/plain": [
       "1228"
      ]
     },
     "execution_count": 56,
     "metadata": {},
     "output_type": "execute_result"
    }
   ],
   "source": [
    "round(1228,0)"
   ]
  },
  {
   "cell_type": "markdown",
   "metadata": {},
   "source": [
    "Now if x has negative rounding _ndigits_, x is rounded to n integral digits, e.g.:"
   ]
  },
  {
   "cell_type": "code",
   "execution_count": 57,
   "metadata": {},
   "outputs": [
    {
     "data": {
      "text/plain": [
       "1230"
      ]
     },
     "execution_count": 57,
     "metadata": {},
     "output_type": "execute_result"
    }
   ],
   "source": [
    "round(1228,-1) ###Rounds the nearest ten"
   ]
  },
  {
   "cell_type": "code",
   "execution_count": 60,
   "metadata": {},
   "outputs": [
    {
     "data": {
      "text/plain": [
       "1200"
      ]
     },
     "execution_count": 60,
     "metadata": {},
     "output_type": "execute_result"
    }
   ],
   "source": [
    "round(1228,-2) ##Rounds to the nearest hundred"
   ]
  },
  {
   "cell_type": "code",
   "execution_count": 62,
   "metadata": {},
   "outputs": [
    {
     "data": {
      "text/plain": [
       "1000"
      ]
     },
     "execution_count": 62,
     "metadata": {},
     "output_type": "execute_result"
    }
   ],
   "source": [
    "round(1228, -3) ##Rounds to the nearest thousand"
   ]
  },
  {
   "cell_type": "markdown",
   "metadata": {},
   "source": [
    "**Note**:All the binary numeric operations (+,-,*,/,//,% and ** ) have augmented assignment operators, consider the following examples:"
   ]
  },
  {
   "cell_type": "code",
   "execution_count": 65,
   "metadata": {},
   "outputs": [
    {
     "name": "stdout",
     "output_type": "stream",
     "text": [
      "2\n"
     ]
    }
   ],
   "source": [
    "x=1 \n",
    "x+=1\n",
    "print(x)"
   ]
  },
  {
   "cell_type": "code",
   "execution_count": 72,
   "metadata": {},
   "outputs": [
    {
     "name": "stdout",
     "output_type": "stream",
     "text": [
      "3\n"
     ]
    }
   ],
   "source": [
    "x=1 \n",
    "x+=2\n",
    "print(x)"
   ]
  },
  {
   "cell_type": "code",
   "execution_count": 73,
   "metadata": {},
   "outputs": [
    {
     "name": "stdout",
     "output_type": "stream",
     "text": [
      "-1\n"
     ]
    }
   ],
   "source": [
    "x=1 \n",
    "x-=2\n",
    "print(x)"
   ]
  },
  {
   "cell_type": "code",
   "execution_count": 74,
   "metadata": {},
   "outputs": [
    {
     "name": "stdout",
     "output_type": "stream",
     "text": [
      "2\n"
     ]
    }
   ],
   "source": [
    "x=1 \n",
    "x*=2\n",
    "print(x)"
   ]
  },
  {
   "cell_type": "code",
   "execution_count": 75,
   "metadata": {},
   "outputs": [
    {
     "name": "stdout",
     "output_type": "stream",
     "text": [
      "0.5\n"
     ]
    }
   ],
   "source": [
    "x=1 \n",
    "x/=2\n",
    "print(x)"
   ]
  },
  {
   "cell_type": "code",
   "execution_count": 77,
   "metadata": {},
   "outputs": [
    {
     "name": "stdout",
     "output_type": "stream",
     "text": [
      "0\n"
     ]
    }
   ],
   "source": [
    "x=1 \n",
    "x//=2\n",
    "print(x)"
   ]
  },
  {
   "cell_type": "code",
   "execution_count": 78,
   "metadata": {},
   "outputs": [
    {
     "name": "stdout",
     "output_type": "stream",
     "text": [
      "1\n"
     ]
    }
   ],
   "source": [
    "x=1\n",
    "x%=2 \n",
    "print(x)"
   ]
  },
  {
   "cell_type": "markdown",
   "metadata": {},
   "source": [
    "**Note**: In general, *x=x op y* is logically equivalent to *x op = y*.\n",
    "\n",
    "### 3.4 Integer Objects\n",
    "\n",
    "Objects can be created in two ways:\n",
    "\n",
    "1. By assigning literals to variables as in the following example:"
   ]
  },
  {
   "cell_type": "code",
   "execution_count": 83,
   "metadata": {},
   "outputs": [
    {
     "name": "stdout",
     "output_type": "stream",
     "text": [
      "17\n"
     ]
    }
   ],
   "source": [
    "x=17\n",
    "print(x)"
   ]
  },
  {
   "cell_type": "markdown",
   "metadata": {},
   "source": [
    "2. By calling the relevant data type as a function, for example one can only create a decimal.Decimal object by calling its data type since there it doesn't have a literal representation.<br><br>When an object is created by calling the relevant data type as a function there are three possible use cases:</br></br> \n",
    "           \n",
    "      1. Calling a data type with no arguments  \n",
    "      2. Calling a data type with a single argument   \n",
    "      3. Calling a data type with two or more arguments\n",
    "\n",
    "Let's explore each case with an appropiate example:\n",
    "\n",
    "__A. Calling a data type with no arguments__:"
   ]
  },
  {
   "cell_type": "code",
   "execution_count": 82,
   "metadata": {},
   "outputs": [
    {
     "name": "stdout",
     "output_type": "stream",
     "text": [
      "0\n"
     ]
    }
   ],
   "source": [
    "x=int()\n",
    "print(x)"
   ]
  },
  {
   "cell_type": "markdown",
   "metadata": {},
   "source": [
    "<font color=green> __Effect:__ </font> Calling x = int() creates (ans assigns to x) an integer value of 0. All the built-in data types can be called with no arguments. \n",
    "\n",
    "__B. Calling a data type with a single argument__:"
   ]
  },
  {
   "cell_type": "code",
   "execution_count": 84,
   "metadata": {},
   "outputs": [
    {
     "name": "stdout",
     "output_type": "stream",
     "text": [
      "17\n"
     ]
    }
   ],
   "source": [
    "x=int(17)\n",
    "print(x)"
   ]
  },
  {
   "cell_type": "markdown",
   "metadata": {},
   "source": [
    "<font color=green> __Effect:__ </font> Calling x = int(17) creates (ans assigns to x) a shallow copy of the original object (17)is created. If the passed argument is of a different type, a conversion is attempted with two possible further effects:\n",
    "\n",
    "   1. If the passed argument is of a type that supports the conversions to the given type and the conversion fails, a *Value Error* exception is raised.\n",
    "   \n",
    "   2. If the argument's data type does not support conversion to the given type a *Type Error* exception is raised.\n",
    "   \n",
    "The built-in _float_ and _str_ provide integer conversions. It is also possible to provide integer and other conversions for our own custom data types. \n",
    "\n",
    "__C. Calling a data type with two or more arguments__:\n",
    "\n",
    "Not all types support this, and for those who do, their meanings vary. For example, for the _int_ type two arguments are permitted where the first is a string that represents an integer and the second is the number base of the string representation. Then:"
   ]
  },
  {
   "cell_type": "code",
   "execution_count": 88,
   "metadata": {},
   "outputs": [
    {
     "name": "stdout",
     "output_type": "stream",
     "text": [
      "164\n"
     ]
    }
   ],
   "source": [
    "x= int(\"A4\",16)\n",
    "print(x)"
   ]
  },
  {
   "cell_type": "markdown",
   "metadata": {},
   "source": [
    "__Note:__ To convert from hexadecimal to int (Decimal) in this example we do the following: In hexadecimal 4 is equivalent to 4 in decimal and A is equivalent to 10 in decimal, then we multiply each hex value by 16 to the power of its position (counting from the left, and starting from 0) and thus:<br> \n",
    "\n",
    "$A4 = 10x16^1 + 4x16^0 = 160 + 4 =164 $\n",
    "\n",
    "### 3.5 Other Integer Operators \n",
    "\n",
    "__Bitwise operators:__\n",
    "\n",
    "  * All the bitwise operators (|, ^, &, << and >> ) have augmented assignment operators (=|, =^, =&, =<< and =>> ).\n",
    "   \n",
    "  * The method int.bit_length() returns the number of bits required to represent the the _int_ it was called on, e.g.:"
   ]
  },
  {
   "cell_type": "code",
   "execution_count": 91,
   "metadata": {},
   "outputs": [
    {
     "data": {
      "text/plain": [
       "12"
      ]
     },
     "execution_count": 91,
     "metadata": {},
     "output_type": "execute_result"
    }
   ],
   "source": [
    "(2146).bit_length() ##Parentheses required for literal integer but not for an integer variable "
   ]
  },
  {
   "cell_type": "markdown",
   "metadata": {},
   "source": [
    "### 3.6 Booleans\n",
    "\n",
    "__Summary:__\n",
    "\n",
    " * There are two types of Boolean objects: _True_ and _False_. \n",
    " * Like all other Pytohn data types (built-in or custom), the _bool_ data type can be called as a function with all of the argument options as discussed before:\n",
    " \n",
    "    1. With no arguments it returns _False_\n",
    "    2. With one _bool_ argument it returns a copy of the argument and with any other argument type it attempts to convert the given object to a _bool_. \n",
    "    \n",
    "__Note:__ All the built-in and cusotm datatypes can be converted to produce a Boolean value.\n",
    "\n",
    "Let's see some Boolean assignments and expressions:"
   ]
  },
  {
   "cell_type": "code",
   "execution_count": 93,
   "metadata": {},
   "outputs": [
    {
     "name": "stdout",
     "output_type": "stream",
     "text": [
      "False\n",
      "True\n",
      "False\n",
      "False\n"
     ]
    }
   ],
   "source": [
    "t= True\n",
    "f= False \n",
    "print(t and False)\n",
    "print(t and True)\n",
    "print(f and False) \n",
    "print(f and True)\n"
   ]
  },
  {
   "cell_type": "code",
   "execution_count": 1,
   "metadata": {},
   "outputs": [
    {
     "data": {
      "text/plain": [
       "(0.0, 5.4, -2.5, 0.00089)"
      ]
     },
     "execution_count": 1,
     "metadata": {},
     "output_type": "execute_result"
    }
   ],
   "source": [
    "0.0,5.4,-2.5,8.9e-4"
   ]
  }
 ],
 "metadata": {
  "celltoolbar": "Raw Cell Format",
  "kernelspec": {
   "display_name": "Python 3",
   "language": "python",
   "name": "python3"
  },
  "language_info": {
   "codemirror_mode": {
    "name": "ipython",
    "version": 3
   },
   "file_extension": ".py",
   "mimetype": "text/x-python",
   "name": "python",
   "nbconvert_exporter": "python",
   "pygments_lexer": "ipython3",
   "version": "3.7.3"
  }
 },
 "nbformat": 4,
 "nbformat_minor": 2
}
